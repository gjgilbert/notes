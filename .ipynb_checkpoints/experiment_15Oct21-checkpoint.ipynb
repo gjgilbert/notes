{
 "cells": [
  {
   "cell_type": "code",
   "execution_count": 1,
   "metadata": {},
   "outputs": [],
   "source": [
    "import scipy\n",
    "import numpy as np\n",
    "import random\n",
    "import uncertainties\n",
    "from uncertainties import ufloat\n",
    "import pandas as pd\n",
    "import matplotlib.pyplot as plt\n",
    "from constants import *"
   ]
  },
  {
   "cell_type": "code",
   "execution_count": 2,
   "metadata": {},
   "outputs": [],
   "source": [
    "def dur_tot_calc(p, b, ror, rho, e=0., w=0.):\n",
    "    '''\n",
    "    Solves for total duration T14 (in days)\n",
    "    From Winn 2010, Eq 14 with eccentricity consideration from Eq 16\n",
    "    Approximations used: sin(i) ~ 1, arcsin(x) ~ x\n",
    "    Args:\n",
    "        p: period (days)\n",
    "        b: impact parameter\n",
    "        rho: stellar density or circular stellar density (g/cc)\n",
    "        e: eccenticity - if true stellar density is input; default 0\n",
    "        w: omega, argument of periastron (radians) - if true stellar density is input; default 0\n",
    "        ror: Rp/Rs\n",
    "    Returns:\n",
    "        T14: total transit duration 1->4 (in days)\n",
    "    '''\n",
    "    p *= day\n",
    "    aor = ((p**2 * G * rho) / (3 * np.pi))**(1/3)\n",
    "    f_ew = ((1-e**2)**(1/2)/(1+e*np.sin(w)))\n",
    "    dur_tot = p/np.pi * aor**(-1) * ((1+ror)**2 - b**2)**(1/2) * f_ew\n",
    "    return dur_tot/day"
   ]
  },
  {
   "cell_type": "markdown",
   "metadata": {},
   "source": [
    "# Select baseline system parameters"
   ]
  },
  {
   "cell_type": "code",
   "execution_count": 3,
   "metadata": {},
   "outputs": [
    {
     "data": {
      "text/plain": [
       "{'period': 5.0,\n",
       " 't0': 0.0,\n",
       " 'dur': 0.1177221267616729,\n",
       " 'ror': 0.05,\n",
       " 'b': 0.3,\n",
       " 'e': 0.1,\n",
       " 'omega': 1.5707963267948966,\n",
       " 'rho_star': 1.409779824307527}"
      ]
     },
     "execution_count": 3,
     "metadata": {},
     "output_type": "execute_result"
    }
   ],
   "source": [
    "per_inj = 5.\n",
    "t0_inj = 0.\n",
    "\n",
    "ror_inj = 0.05\n",
    "b_inj = 0.3\n",
    "\n",
    "e_inj = 0.1\n",
    "w_inj = np.pi/2.\n",
    "\n",
    "rho_test = rhosun\n",
    "rho_test_err = rhosun*0.1\n",
    "\n",
    "T14_inj = dur_tot_calc(per_inj, b_inj, ror_inj, rho_test, e_inj, w_inj)\n",
    "\n",
    "params = {'period': per_inj,\n",
    "         't0': t0_inj,\n",
    "         'dur': T14_inj,\n",
    "         'ror': ror_inj,\n",
    "         'b': b_inj,\n",
    "         'e': e_inj,\n",
    "         'omega': w_inj,\n",
    "         'rho_star': rho_test}\n",
    "\n",
    "params"
   ]
  },
  {
   "cell_type": "markdown",
   "metadata": {},
   "source": [
    "# Sample from uniform distributions and calculate likelihood assuming 10% uncertainty on $T_{14}$ and $r_p/R_s$"
   ]
  },
  {
   "cell_type": "code",
   "execution_count": 4,
   "metadata": {},
   "outputs": [],
   "source": [
    "N = int(1e6)\n",
    "\n",
    "# draw rho, ror, b\n",
    "rhocirc_uni = np.random.uniform(1/10., 10., N)\n",
    "ror_uni = np.random.uniform(0.001, 0.2, N)\n",
    "b_uni = np.array([np.random.uniform(0, 1+ror, 1)[0] for ror in ror_uni])\n",
    "\n",
    "# period is fixed --> get derived total duration (T14)\n",
    "T14_uni = dur_tot_calc(per_inj, b_uni, ror_uni, rhocirc_uni)\n",
    "\n",
    "# set assumed 10% errors or\n",
    "sig_T14 = T14_inj * 0.1\n",
    "sig_ror = ror_inj * 0.1\n",
    "\n",
    "# calculate chi-squared for T14 and ror\n",
    "chi2_T14 = ((T14_uni - T14_inj) / sig_T14)**2\n",
    "chi2_ror = ((ror_uni - ror_inj) / sig_ror)**2\n",
    "\n",
    "# calculate log-likelihood\n",
    "logL = -0.5*chi2_T14 - 0.5*chi2_ror\n",
    "\n",
    "# weight posterior samples by log-likelihood\n",
    "w = np.exp(logL)\n",
    "w /= np.sum(w)"
   ]
  },
  {
   "cell_type": "code",
   "execution_count": 5,
   "metadata": {},
   "outputs": [
    {
     "data": {
      "image/png": "[encoded data removed]",
      "text/plain": [
       "<Figure size 864x216 with 2 Axes>"
      ]
     },
     "metadata": {
      "needs_background": "light"
     },
     "output_type": "display_data"
    }
   ],
   "source": [
    "# plot prior distribution vs. posterior distribution\n",
    "fig, ax = plt.subplots(1,2, figsize=(12,3))\n",
    "\n",
    "bins = np.linspace(0,np.percentile(T14_uni,99),99)\n",
    "\n",
    "ax[0].hist(T14_uni, bins=bins, density=True, label='prior', alpha=0.5)\n",
    "ax[0].hist(T14_uni, weights=w, bins=bins, density=True, label='posterior', alpha=0.5)\n",
    "ax[0].axvline(T14_inj, ls=\"--\", lw=2, color=\"k\")\n",
    "ax[0].legend(fontsize=12)\n",
    "ax[0].set_ylabel('count density', fontsize=15)\n",
    "ax[0].set_xlabel('T14 (days)', fontsize=15)\n",
    "\n",
    "ax[1].hist(b_uni, bins=99, density=True, label='prior', alpha=0.5)\n",
    "ax[1].hist(b_uni, weights=w, bins=99, density=True, label='implicit bias', alpha=0.5)\n",
    "ax[1].legend(fontsize=12)\n",
    "ax[1].set_ylabel('count density', fontsize=15)\n",
    "ax[1].set_xlabel('b', fontsize=15)\n",
    "\n",
    "plt.show()"
   ]
  },
  {
   "cell_type": "markdown",
   "metadata": {},
   "source": [
    "# Changing the range of $\\rho_{\\rm circ}$ changes the prior on $T_{14}$"
   ]
  },
  {
   "cell_type": "markdown",
   "metadata": {},
   "source": [
    "Here, the upper (lower) bound of $\\rho_{\\rm circ}$ is changed from 10 (0.1) g/cc to 50 (0.02) g/cc  -- it is possible to attain such high $\\rho_{\\rm circ}$ values for highly eccentric orbits"
   ]
  },
  {
   "cell_type": "code",
   "execution_count": 6,
   "metadata": {},
   "outputs": [],
   "source": [
    "N = int(1e6)\n",
    "\n",
    "# draw rho, ror, b\n",
    "rhocirc_uni = np.random.uniform(1/50., 50., N)\n",
    "ror_uni = np.random.uniform(0.001, 0.2, N)\n",
    "b_uni = np.array([np.random.uniform(0, 1+ror, 1)[0] for ror in ror_uni])\n",
    "\n",
    "# period is fixed --> get derived total duration (T14)\n",
    "T14_uni = dur_tot_calc(per_inj, b_uni, ror_uni, rhocirc_uni)\n",
    "\n",
    "# set assumed 10% errors or\n",
    "sig_T14 = T14_inj * 0.1\n",
    "sig_ror = ror_inj * 0.1\n",
    "\n",
    "# calculate chi-squared for T14 and ror\n",
    "chi2_T14 = ((T14_uni - T14_inj) / sig_T14)**2\n",
    "chi2_ror = ((ror_uni - ror_inj) / sig_ror)**2\n",
    "\n",
    "# calculate log-likelihood\n",
    "logL = -0.5*chi2_T14 - 0.5*chi2_ror\n",
    "\n",
    "# weight posterior samples by log-likelihood\n",
    "w = np.exp(logL)\n",
    "w /= np.sum(w)"
   ]
  },
  {
   "cell_type": "code",
   "execution_count": 7,
   "metadata": {},
   "outputs": [
    {
     "data": {
      "image/png": "[encoded data removed]",
      "text/plain": [
       "<Figure size 864x216 with 2 Axes>"
      ]
     },
     "metadata": {
      "needs_background": "light"
     },
     "output_type": "display_data"
    }
   ],
   "source": [
    "# plot prior distribution vs. posterior distribution\n",
    "fig, ax = plt.subplots(1,2, figsize=(12,3))\n",
    "\n",
    "bins = np.linspace(0,np.percentile(T14_uni,99),99)\n",
    "\n",
    "ax[0].hist(T14_uni, bins=bins, density=True, label='prior', alpha=0.5)\n",
    "ax[0].hist(T14_uni, weights=w, bins=bins, density=True, label='posterior', alpha=0.5)\n",
    "ax[0].axvline(T14_inj, ls=\"--\", lw=2, color=\"k\")\n",
    "ax[0].legend(fontsize=12)\n",
    "ax[0].set_ylabel('count density', fontsize=15)\n",
    "ax[0].set_xlabel('T14 (days)', fontsize=15)\n",
    "#ax[0].set_xlim(np.percentile(T14_uni,0.3),np.percentile(T14_uni,99.7))\n",
    "\n",
    "ax[1].hist(b_uni, bins=99, density=True, label='prior', alpha=0.5)\n",
    "ax[1].hist(b_uni, weights=w, bins=99, density=True, label='implicit bias', alpha=0.5)\n",
    "ax[1].legend(fontsize=12)\n",
    "ax[1].set_ylabel('count density', fontsize=15)\n",
    "ax[1].set_xlabel('b', fontsize=15)\n",
    "\n",
    "plt.show()"
   ]
  },
  {
   "cell_type": "markdown",
   "metadata": {},
   "source": [
    "So, a uniform prior on $\\rho_{\\rm circ}$ induces a strong prior on $T_{14}$ which is dependent on the $\\rho_{\\rm circ}$ interval bounds."
   ]
  },
  {
   "cell_type": "markdown",
   "metadata": {},
   "source": [
    "# Can we do better sampling directly in $T_{14}$?"
   ]
  },
  {
   "cell_type": "code",
   "execution_count": 8,
   "metadata": {},
   "outputs": [],
   "source": [
    "N = int(1e6)\n",
    "\n",
    "# now draw from T14, ror, b\n",
    "T14_uni = np.random.uniform(0.01, 0.3, N)\n",
    "ror_uni = np.random.uniform(0.001, 0.2, N)\n",
    "b_uni = np.array([np.random.uniform(0, 1+ror, 1)[0] for ror in ror_uni])\n",
    "\n",
    "# set assumed 10% errors or\n",
    "sig_T14 = T14_inj * 0.1\n",
    "sig_ror = ror_inj * 0.1\n",
    "\n",
    "# calculate chi-squared for T14 and ror\n",
    "chi2_T14 = ((T14_uni - T14_inj) / sig_T14)**2\n",
    "chi2_ror = ((ror_uni - ror_inj) / sig_ror)**2\n",
    "\n",
    "# calculate log-likelihood\n",
    "logL = -0.5*chi2_T14 - 0.5*chi2_ror\n",
    "\n",
    "# weight posterior samples by log-likelihood\n",
    "w = np.exp(logL)\n",
    "w /= np.sum(w)"
   ]
  },
  {
   "cell_type": "code",
   "execution_count": 9,
   "metadata": {},
   "outputs": [
    {
     "data": {
      "image/png": "[encoded data removed]",
      "text/plain": [
       "<Figure size 864x216 with 2 Axes>"
      ]
     },
     "metadata": {
      "needs_background": "light"
     },
     "output_type": "display_data"
    }
   ],
   "source": [
    "# plot prior distribution vs. posterior distribution\n",
    "fig, ax = plt.subplots(1,2, figsize=(12,3))\n",
    "\n",
    "bins = np.linspace(0,np.percentile(T14_uni,99),99)\n",
    "\n",
    "ax[0].hist(T14_uni, bins=bins, density=True, label='prior', alpha=0.5)\n",
    "ax[0].hist(T14_uni, weights=w, bins=bins, density=True, label='posterior', alpha=0.5)\n",
    "ax[0].axvline(T14_inj, ls=\"--\", lw=2, color=\"k\")\n",
    "ax[0].legend(fontsize=12)\n",
    "ax[0].set_ylabel('count density', fontsize=15)\n",
    "ax[0].set_xlabel('T14 (days)', fontsize=15)\n",
    "\n",
    "ax[1].hist(b_uni, bins=99, density=True, label='prior', alpha=0.5)\n",
    "ax[1].hist(b_uni, weights=w, bins=99, density=True, label='implicit bias', alpha=0.5)\n",
    "ax[1].legend(fontsize=12)\n",
    "ax[1].set_ylabel('count density', fontsize=15)\n",
    "ax[1].set_xlabel('b', fontsize=15)\n",
    "\n",
    "plt.show()"
   ]
  },
  {
   "cell_type": "code",
   "execution_count": null,
   "metadata": {},
   "outputs": [],
   "source": []
  },
  {
   "cell_type": "code",
   "execution_count": null,
   "metadata": {},
   "outputs": [],
   "source": []
  }
 ],
 "metadata": {
  "kernelspec": {
   "display_name": "Python 3",
   "language": "python",
   "name": "python3"
  },
  "language_info": {
   "codemirror_mode": {
    "name": "ipython",
    "version": 3
   },
   "file_extension": ".py",
   "mimetype": "text/x-python",
   "name": "python",
   "nbconvert_exporter": "python",
   "pygments_lexer": "ipython3",
   "version": "3.7.3"
  }
 },
 "nbformat": 4,
 "nbformat_minor": 4
}
