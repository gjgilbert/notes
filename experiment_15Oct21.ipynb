{
 "cells": [
  {
   "cell_type": "code",
   "execution_count": 13,
   "metadata": {},
   "outputs": [],
   "source": [
    "import scipy\n",
    "import numpy as np\n",
    "import random\n",
    "import uncertainties\n",
    "from uncertainties import ufloat\n",
    "import pandas as pd\n",
    "import matplotlib.pyplot as plt\n",
    "from constants import *\n",
    "\n",
    "def dur_tot_calc(p, b, ror, rho, e=0., w=0.):\n",
    "    '''\n",
    "    Solves for total duration T14 (in days)\n",
    "    From Winn 2010, Eq 14 with eccentricity consideration from Eq 16\n",
    "    Approximations used: sin(i) ~ 1, arcsin(x) ~ x\n",
    "    Args:\n",
    "        p: period (days)\n",
    "        b: impact parameter\n",
    "        rho: stellar density or circular stellar density (g/cc)\n",
    "        e: eccenticity - if true stellar density is input; default 0\n",
    "        w: omega, argument of periastron (radians) - if true stellar density is input; default 0\n",
    "        ror: Rp/Rs\n",
    "    Returns:\n",
    "        T14: total transit duration 1->4 (in days)\n",
    "    '''\n",
    "    p *= day\n",
    "    aor = ((p**2 * G * rho) / (3 * np.pi))**(1/3)\n",
    "    f_ew = ((1-e**2)**(1/2)/(1+e*np.sin(w)))\n",
    "    dur_tot = p/np.pi * aor**(-1) * ((1+ror)**2 - b**2)**(1/2) * f_ew\n",
    "    return dur_tot/day\n"
   ]
  },
  {
   "cell_type": "markdown",
   "metadata": {},
   "source": [
    "# Select baseline system parameters"
   ]
  },
  {
   "cell_type": "code",
   "execution_count": 14,
   "metadata": {},
   "outputs": [
    {
     "data": {
      "text/plain": [
       "{'period': 5.0,\n",
       " 't0': 0.0,\n",
       " 'dur': 0.1177221267616729,\n",
       " 'ror': 0.05,\n",
       " 'b': 0.3,\n",
       " 'e': 0.1,\n",
       " 'omega': 1.5707963267948966,\n",
       " 'rho_star': 1.409779824307527}"
      ]
     },
     "execution_count": 14,
     "metadata": {},
     "output_type": "execute_result"
    }
   ],
   "source": [
    "\n",
    "per_inj = 5.\n",
    "t0_inj = 0.\n",
    "\n",
    "ror_inj = 0.05\n",
    "b_inj = 0.3\n",
    "\n",
    "e_inj = 0.1\n",
    "w_inj = np.pi/2.\n",
    "\n",
    "rho_test = rhosun\n",
    "rho_test_err = rhosun*0.1\n",
    "\n",
    "dur_inj = dur_tot_calc(per_inj, b_inj, ror_inj, rho_test, e_inj, w_inj)\n",
    "\n",
    "params = {'period': per_inj,\n",
    "         't0': t0_inj,\n",
    "         'dur': dur_inj,\n",
    "         'ror': ror_inj,\n",
    "         'b': b_inj,\n",
    "         'e': e_inj,\n",
    "         'omega': w_inj,\n",
    "         'rho_star': rho_test}\n",
    "\n",
    "params\n",
    "\n"
   ]
  },
  {
   "cell_type": "markdown",
   "metadata": {},
   "source": [
    "# Sample from uniform distributions for N samples"
   ]
  },
  {
   "cell_type": "code",
   "execution_count": 15,
   "metadata": {},
   "outputs": [],
   "source": [
    "N = int(1e5)\n",
    "\n",
    "rhocirc_uni = np.random.uniform(0.01, 10.0, N)\n",
    "ror_uni = np.random.uniform(0.001, 1.0, N)\n",
    "b_uni = np.random.uniform(0.0, 1.0, N)\n",
    "\n",
    "#b_uni = np.array([np.random.uniform(0, 1+ror, 1)[0] for ror in ror_uni])"
   ]
  },
  {
   "cell_type": "markdown",
   "metadata": {},
   "source": [
    "# Get derived total duration (T14_0) given uniform rhocirc, ror, and b"
   ]
  },
  {
   "cell_type": "code",
   "execution_count": 16,
   "metadata": {},
   "outputs": [],
   "source": [
    "# set true value of T14 and its known error\n",
    "T14 = dur_inj\n",
    "sig_T14 = T14 * 0.1\n",
    "\n",
    "# period is fixed\n",
    "T14_0 = dur_tot_calc(per_inj, b_uni, ror_uni, rhocirc_uni)\n",
    "\n",
    "# calculate chi-squared\n",
    "chi2_T14 = ((T14 - T14_0) / sig_T14)**2\n",
    "\n",
    "# calculat log-likelihood\n",
    "logL = -0.5 * chi2_T14\n"
   ]
  },
  {
   "cell_type": "code",
   "execution_count": 17,
   "metadata": {},
   "outputs": [
    {
     "data": {
      "image/png": "[encoded data removed]",
      "text/plain": [
       "<Figure size 432x288 with 1 Axes>"
      ]
     },
     "metadata": {
      "needs_background": "light"
     },
     "output_type": "display_data"
    }
   ],
   "source": [
    "# Distribution of chi2_T14 values\n",
    "plt.hist(chi2_T14, bins=100, density=True)\n",
    "plt.ylabel('count density', fontsize=15)\n",
    "plt.xlabel('chi2_T14', fontsize=15);"
   ]
  },
  {
   "cell_type": "code",
   "execution_count": 18,
   "metadata": {},
   "outputs": [
    {
     "data": {
      "image/png": "[encoded data removed]",
      "text/plain": [
       "<Figure size 432x288 with 1 Axes>"
      ]
     },
     "metadata": {
      "needs_background": "light"
     },
     "output_type": "display_data"
    }
   ],
   "source": [
    "# Known distribution of T14 with 10% errorbars\n",
    "T14_true = np.random.normal(T14, sig_T14, N)\n",
    "\n",
    "# Plot sampled distribution vs. known distribution\n",
    "plt.hist(T14_0, bins=100, density=True, label='sampled')\n",
    "plt.hist(T14_true, bins=100, density=True, label='true', alpha=0.5)\n",
    "plt.legend(fontsize=12)\n",
    "plt.ylabel('count density', fontsize=15)\n",
    "plt.xlabel('T14 (days)', fontsize=15);"
   ]
  },
  {
   "cell_type": "markdown",
   "metadata": {},
   "source": [
    "Not bad, but there's definitely much broader tails on the sampled distribution of T14_0 than the true distribution"
   ]
  },
  {
   "cell_type": "code",
   "execution_count": null,
   "metadata": {},
   "outputs": [],
   "source": []
  },
  {
   "cell_type": "markdown",
   "metadata": {},
   "source": [
    "# Changing the range of rhocirc changes the outcome"
   ]
  },
  {
   "cell_type": "markdown",
   "metadata": {},
   "source": [
    "The sampled distribution of T14_0 changes significantly depending on the range sampled for rhocirc_uni\n",
    "\n",
    "Here, the upper bound of rhocirc_uni is changed from 10 g/cc to 50 g/cc (it is possible to attain such high rhocirc values for highly eccentric orbits)"
   ]
  },
  {
   "cell_type": "code",
   "execution_count": 19,
   "metadata": {},
   "outputs": [],
   "source": [
    "# change range of rhocirc_uni\n",
    "rhocirc_uni = np.random.uniform(0.01, 50.0, N)\n",
    "\n",
    "# recalculate derived distribution of T14_0, along with chi-squared and log-likelihood\n",
    "T14_0 = dur_tot_calc(per_inj, b_uni, ror_uni, rhocirc_uni)\n",
    "chi2_T14 = ((T14 - T14_0) / sig_T14)**2\n",
    "logL = -0.5 * chi2_T14"
   ]
  },
  {
   "cell_type": "code",
   "execution_count": 20,
   "metadata": {},
   "outputs": [
    {
     "data": {
      "image/png": "[encoded data removed]",
      "text/plain": [
       "<Figure size 432x288 with 1 Axes>"
      ]
     },
     "metadata": {
      "needs_background": "light"
     },
     "output_type": "display_data"
    }
   ],
   "source": [
    "# Distribution of chi2_T14 values; rhocirc_uni: 0. --> 50.\n",
    "plt.hist(chi2_T14, bins=100, density=True)\n",
    "plt.ylabel('count density', fontsize=15)\n",
    "plt.xlabel('chi2_T14', fontsize=15);"
   ]
  },
  {
   "cell_type": "code",
   "execution_count": 21,
   "metadata": {},
   "outputs": [
    {
     "data": {
      "image/png": "[encoded data removed]",
      "text/plain": [
       "<Figure size 432x288 with 1 Axes>"
      ]
     },
     "metadata": {
      "needs_background": "light"
     },
     "output_type": "display_data"
    }
   ],
   "source": [
    "# Compare sampled distribution of T14 vs. true distribution; rhocirc_uni: 0. --> 50.\n",
    "plt.hist(T14_0, bins=100, density=True, label='sampled')\n",
    "plt.hist(T14_true, bins=100, density=True, label='true', alpha=0.5)\n",
    "plt.legend(fontsize=12)\n",
    "plt.ylabel('count density', fontsize=15)\n",
    "plt.xlabel('T14 (days)', fontsize=15);"
   ]
  },
  {
   "cell_type": "markdown",
   "metadata": {},
   "source": [
    "This sampled distribution is now significantly biased away from the known distribution of T14"
   ]
  },
  {
   "cell_type": "code",
   "execution_count": null,
   "metadata": {},
   "outputs": [],
   "source": []
  },
  {
   "cell_type": "markdown",
   "metadata": {},
   "source": [
    "# Is there a bias to impact parameter then?"
   ]
  },
  {
   "cell_type": "markdown",
   "metadata": {},
   "source": [
    "We know T14 to 10% precision and ror to 10% precision\n",
    "\n",
    "Assuming we fix the period and uniformly sample rhocirc_uni, we can solve for the distribution of b"
   ]
  },
  {
   "cell_type": "code",
   "execution_count": 27,
   "metadata": {},
   "outputs": [
    {
     "data": {
      "image/png": "[encoded data removed]",
      "text/plain": [
       "<Figure size 432x288 with 1 Axes>"
      ]
     },
     "metadata": {
      "needs_background": "light"
     },
     "output_type": "display_data"
    }
   ],
   "source": [
    "N = int(1e5)\n",
    "\n",
    "# Sample from uniform distributions for N samples\n",
    "ror_true = np.random.normal(ror_inj, ror_inj*0.1, N)\n",
    "T14_true = np.random.normal(dur_inj, dur_inj*0.1, N)\n",
    "\n",
    "rhocirc_uni = np.random.uniform(0.01, 10.0, N)\n",
    "\n",
    "# Deriving b by rearranging the T14 (dur_tot) equation\n",
    "# Using ror_true and T14_true distributions\n",
    "aor = (((per_inj*day)**2 * G * rhocirc_uni) / (3 * np.pi))**(1/3)\n",
    "bsquared_0 = ( (1+ror_true)**2 - (T14_true*(np.pi/per_inj)*aor)**2 )\n",
    "pos = (bsquared_0 > 0)\n",
    "\n",
    "# Plot distribution of b\n",
    "plt.figure()\n",
    "plt.hist(bsquared_0[pos]**(1/2), bins=100, density=True, range=(0.,1.+np.max(ror_true)))\n",
    "plt.xlabel('b', fontsize=15)\n",
    "plt.ylabel('count density', fontsize=15)\n",
    "plt.axvline(b_inj, color='k', ls='--', label='true value')\n",
    "plt.legend()\n",
    "plt.show()\n"
   ]
  },
  {
   "cell_type": "markdown",
   "metadata": {},
   "source": [
    "Interesting distribution. Definitely biased, but not too sure how to interepret this; also the bias is oddly towards higher impact parameter rather than lower? Which seems backwords to me"
   ]
  },
  {
   "cell_type": "markdown",
   "metadata": {},
   "source": [
    "The math can be verified by constraining rhocirc_uni to be around the true value of rhocirc (which is given in the cell below) and seeing the distribution of b approach the true value"
   ]
  },
  {
   "cell_type": "code",
   "execution_count": 24,
   "metadata": {},
   "outputs": [
    {
     "data": {
      "text/plain": [
       "1.904919179876055"
      ]
     },
     "execution_count": 24,
     "metadata": {},
     "output_type": "execute_result"
    }
   ],
   "source": [
    "rhocirc_true = ((1-e_inj**2)**(1/2)/(1+e_inj*np.sin(w_inj)))**(-3)*rho_test\n",
    "rhocirc_true"
   ]
  },
  {
   "cell_type": "code",
   "execution_count": 28,
   "metadata": {},
   "outputs": [
    {
     "data": {
      "image/png": "[encoded data removed]",
      "text/plain": [
       "<Figure size 432x288 with 1 Axes>"
      ]
     },
     "metadata": {
      "needs_background": "light"
     },
     "output_type": "display_data"
    }
   ],
   "source": [
    "# Assume a 10% Gaussian error around rhocirc_true\n",
    "rhocirc_uni = np.random.normal(rhocirc_true, rhocirc_true*0.1, N)\n",
    "\n",
    "# Same as before\n",
    "aor = (((per_inj*day)**2 * G * rhocirc_uni) / (3 * np.pi))**(1/3)\n",
    "bsquared_0 = ( (1+ror_true)**2 - (T14_true*(np.pi/per_inj)*aor)**2 )\n",
    "pos = (bsquared_0 > 0)\n",
    "\n",
    "# Plot distribution of b\n",
    "plt.figure()\n",
    "plt.hist(bsquared_0[pos]**(1/2), bins=100, density=True, range=(0.,1.+np.max(ror_true)))\n",
    "plt.xlabel('b', fontsize=15)\n",
    "plt.ylabel('count density', fontsize=15)\n",
    "plt.axvline(b_inj, color='k', ls='--', label='true value')\n",
    "plt.show()"
   ]
  },
  {
   "cell_type": "markdown",
   "metadata": {},
   "source": [
    "The distribution closes in on the true value of b when we constrain the rhocirc distribution around the true value, which makese sense. If we constrain this, ror, and T14 more, then it converges around the true b even more tightly"
   ]
  },
  {
   "cell_type": "code",
   "execution_count": null,
   "metadata": {},
   "outputs": [],
   "source": []
  }
 ],
 "metadata": {
  "kernelspec": {
   "display_name": "Python 3",
   "language": "python",
   "name": "python3"
  },
  "language_info": {
   "codemirror_mode": {
    "name": "ipython",
    "version": 3
   },
   "file_extension": ".py",
   "mimetype": "text/x-python",
   "name": "python",
   "nbconvert_exporter": "python",
   "pygments_lexer": "ipython3",
   "version": "3.7.4"
  }
 },
 "nbformat": 4,
 "nbformat_minor": 4
}
